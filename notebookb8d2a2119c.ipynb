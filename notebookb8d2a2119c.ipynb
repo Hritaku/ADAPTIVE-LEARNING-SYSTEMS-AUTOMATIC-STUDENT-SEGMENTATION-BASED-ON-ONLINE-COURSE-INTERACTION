{
  "metadata": {
    "kernelspec": {
      "language": "python",
      "display_name": "Python 3",
      "name": "python3"
    },
    "language_info": {
      "name": "python",
      "version": "3.10.13",
      "mimetype": "text/x-python",
      "codemirror_mode": {
        "name": "ipython",
        "version": 3
      },
      "pygments_lexer": "ipython3",
      "nbconvert_exporter": "python",
      "file_extension": ".py"
    },
    "kaggle": {
      "accelerator": "none",
      "dataSources": [
        {
          "sourceId": 1552144,
          "sourceType": "datasetVersion",
          "datasetId": 915988
        }
      ],
      "dockerImageVersionId": 30732,
      "isInternetEnabled": false,
      "language": "python",
      "sourceType": "notebook",
      "isGpuEnabled": false
    },
    "colab": {
      "name": "notebookb8d2a2119c",
      "provenance": [],
      "include_colab_link": true
    }
  },
  "nbformat_minor": 0,
  "nbformat": 4,
  "cells": [
    {
      "cell_type": "markdown",
      "metadata": {
        "id": "view-in-github",
        "colab_type": "text"
      },
      "source": [
        "<a href=\"https://colab.research.google.com/github/Hritaku/ADAPTIVE-LEARNING-SYSTEMS-AUTOMATIC-STUDENT-SEGMENTATION-BASED-ON-ONLINE-COURSE-INTERACTION/blob/main/notebookb8d2a2119c.ipynb\" target=\"_parent\"><img src=\"https://colab.research.google.com/assets/colab-badge.svg\" alt=\"Open In Colab\"/></a>"
      ]
    },
    {
      "cell_type": "code",
      "source": [
        "import pandas as pd\n",
        "import numpy as np\n",
        "from sklearn.feature_extraction.text import TfidfVectorizer\n",
        "from sklearn.pipeline import make_pipeline\n",
        "from sklearn.linear_model import LogisticRegression\n",
        "from sklearn.decomposition import TruncatedSVD\n",
        "from sklearn.preprocessing import StandardScaler\n",
        "from sklearn.cluster import KMeans\n",
        "from sklearn.metrics import silhouette_score, calinski_harabasz_score, davies_bouldin_score\n",
        "import nltk\n",
        "from nltk.sentiment.vader import SentimentIntensityAnalyzer\n",
        "import matplotlib.pyplot as plt\n",
        "import seaborn as sns\n",
        "from sklearn.metrics import accuracy_score\n",
        "from sklearn.model_selection import cross_val_score, train_test_split\n",
        "from sklearn.metrics import classification_report, confusion_matrix, roc_curve, roc_auc_score\n",
        "from sklearn.datasets import make_classification"
      ],
      "metadata": {
        "_uuid": "8f2839f25d086af736a60e9eeb907d3b93b6e0e5",
        "_cell_guid": "b1076dfc-b9ad-4769-8c92-a6c4dae69d19",
        "execution": {
          "iopub.status.busy": "2024-07-09T14:35:56.446152Z",
          "iopub.execute_input": "2024-07-09T14:35:56.446649Z",
          "iopub.status.idle": "2024-07-09T14:35:56.454237Z",
          "shell.execute_reply.started": "2024-07-09T14:35:56.44661Z",
          "shell.execute_reply": "2024-07-09T14:35:56.453082Z"
        },
        "trusted": true,
        "id": "d9vbRefq1G3e"
      },
      "execution_count": 42,
      "outputs": []
    },
    {
      "cell_type": "code",
      "source": [
        "df=pd.read_csv(\"/kaggle/input/course-reviews-on-coursera/Coursera_reviews.csv\")\n",
        "df.head()"
      ],
      "metadata": {
        "execution": {
          "iopub.status.busy": "2024-07-09T14:35:56.456233Z",
          "iopub.execute_input": "2024-07-09T14:35:56.456556Z",
          "iopub.status.idle": "2024-07-09T14:36:00.549455Z",
          "shell.execute_reply.started": "2024-07-09T14:35:56.456527Z",
          "shell.execute_reply": "2024-07-09T14:36:00.548367Z"
        },
        "trusted": true,
        "colab": {
          "base_uri": "https://localhost:8080/",
          "height": 206
        },
        "id": "eQj_Pr4D1G3f",
        "outputId": "f8d0bda8-a20e-4107-bd16-11955aca7f7c"
      },
      "execution_count": 43,
      "outputs": [
        {
          "output_type": "execute_result",
          "data": {
            "text/plain": [
              "                                             reviews       reviewers  \\\n",
              "0  Pretty dry, but I was able to pass with just t...     By Robert S   \n",
              "1  would be a better experience if the video and ...  By Gabriel E R   \n",
              "2  Information was perfect! The program itself wa...      By Jacob D   \n",
              "3  A few grammatical mistakes on test made me do ...       By Dale B   \n",
              "4  Excellent course and the training provided was...       By Sean G   \n",
              "\n",
              "   date_reviews  rating                 course_id  \n",
              "0  Feb 12, 2020       4  google-cbrs-cpi-training  \n",
              "1  Sep 28, 2020       4  google-cbrs-cpi-training  \n",
              "2  Apr 08, 2020       4  google-cbrs-cpi-training  \n",
              "3  Feb 24, 2020       4  google-cbrs-cpi-training  \n",
              "4  Jun 18, 2020       4  google-cbrs-cpi-training  "
            ],
            "text/html": [
              "\n",
              "  <div id=\"df-10b89a26-0507-47f3-9d69-b57322af7d2f\" class=\"colab-df-container\">\n",
              "    <div>\n",
              "<style scoped>\n",
              "    .dataframe tbody tr th:only-of-type {\n",
              "        vertical-align: middle;\n",
              "    }\n",
              "\n",
              "    .dataframe tbody tr th {\n",
              "        vertical-align: top;\n",
              "    }\n",
              "\n",
              "    .dataframe thead th {\n",
              "        text-align: right;\n",
              "    }\n",
              "</style>\n",
              "<table border=\"1\" class=\"dataframe\">\n",
              "  <thead>\n",
              "    <tr style=\"text-align: right;\">\n",
              "      <th></th>\n",
              "      <th>reviews</th>\n",
              "      <th>reviewers</th>\n",
              "      <th>date_reviews</th>\n",
              "      <th>rating</th>\n",
              "      <th>course_id</th>\n",
              "    </tr>\n",
              "  </thead>\n",
              "  <tbody>\n",
              "    <tr>\n",
              "      <th>0</th>\n",
              "      <td>Pretty dry, but I was able to pass with just t...</td>\n",
              "      <td>By Robert S</td>\n",
              "      <td>Feb 12, 2020</td>\n",
              "      <td>4</td>\n",
              "      <td>google-cbrs-cpi-training</td>\n",
              "    </tr>\n",
              "    <tr>\n",
              "      <th>1</th>\n",
              "      <td>would be a better experience if the video and ...</td>\n",
              "      <td>By Gabriel E R</td>\n",
              "      <td>Sep 28, 2020</td>\n",
              "      <td>4</td>\n",
              "      <td>google-cbrs-cpi-training</td>\n",
              "    </tr>\n",
              "    <tr>\n",
              "      <th>2</th>\n",
              "      <td>Information was perfect! The program itself wa...</td>\n",
              "      <td>By Jacob D</td>\n",
              "      <td>Apr 08, 2020</td>\n",
              "      <td>4</td>\n",
              "      <td>google-cbrs-cpi-training</td>\n",
              "    </tr>\n",
              "    <tr>\n",
              "      <th>3</th>\n",
              "      <td>A few grammatical mistakes on test made me do ...</td>\n",
              "      <td>By Dale B</td>\n",
              "      <td>Feb 24, 2020</td>\n",
              "      <td>4</td>\n",
              "      <td>google-cbrs-cpi-training</td>\n",
              "    </tr>\n",
              "    <tr>\n",
              "      <th>4</th>\n",
              "      <td>Excellent course and the training provided was...</td>\n",
              "      <td>By Sean G</td>\n",
              "      <td>Jun 18, 2020</td>\n",
              "      <td>4</td>\n",
              "      <td>google-cbrs-cpi-training</td>\n",
              "    </tr>\n",
              "  </tbody>\n",
              "</table>\n",
              "</div>\n",
              "    <div class=\"colab-df-buttons\">\n",
              "\n",
              "  <div class=\"colab-df-container\">\n",
              "    <button class=\"colab-df-convert\" onclick=\"convertToInteractive('df-10b89a26-0507-47f3-9d69-b57322af7d2f')\"\n",
              "            title=\"Convert this dataframe to an interactive table.\"\n",
              "            style=\"display:none;\">\n",
              "\n",
              "  <svg xmlns=\"http://www.w3.org/2000/svg\" height=\"24px\" viewBox=\"0 -960 960 960\">\n",
              "    <path d=\"M120-120v-720h720v720H120Zm60-500h600v-160H180v160Zm220 220h160v-160H400v160Zm0 220h160v-160H400v160ZM180-400h160v-160H180v160Zm440 0h160v-160H620v160ZM180-180h160v-160H180v160Zm440 0h160v-160H620v160Z\"/>\n",
              "  </svg>\n",
              "    </button>\n",
              "\n",
              "  <style>\n",
              "    .colab-df-container {\n",
              "      display:flex;\n",
              "      gap: 12px;\n",
              "    }\n",
              "\n",
              "    .colab-df-convert {\n",
              "      background-color: #E8F0FE;\n",
              "      border: none;\n",
              "      border-radius: 50%;\n",
              "      cursor: pointer;\n",
              "      display: none;\n",
              "      fill: #1967D2;\n",
              "      height: 32px;\n",
              "      padding: 0 0 0 0;\n",
              "      width: 32px;\n",
              "    }\n",
              "\n",
              "    .colab-df-convert:hover {\n",
              "      background-color: #E2EBFA;\n",
              "      box-shadow: 0px 1px 2px rgba(60, 64, 67, 0.3), 0px 1px 3px 1px rgba(60, 64, 67, 0.15);\n",
              "      fill: #174EA6;\n",
              "    }\n",
              "\n",
              "    .colab-df-buttons div {\n",
              "      margin-bottom: 4px;\n",
              "    }\n",
              "\n",
              "    [theme=dark] .colab-df-convert {\n",
              "      background-color: #3B4455;\n",
              "      fill: #D2E3FC;\n",
              "    }\n",
              "\n",
              "    [theme=dark] .colab-df-convert:hover {\n",
              "      background-color: #434B5C;\n",
              "      box-shadow: 0px 1px 3px 1px rgba(0, 0, 0, 0.15);\n",
              "      filter: drop-shadow(0px 1px 2px rgba(0, 0, 0, 0.3));\n",
              "      fill: #FFFFFF;\n",
              "    }\n",
              "  </style>\n",
              "\n",
              "    <script>\n",
              "      const buttonEl =\n",
              "        document.querySelector('#df-10b89a26-0507-47f3-9d69-b57322af7d2f button.colab-df-convert');\n",
              "      buttonEl.style.display =\n",
              "        google.colab.kernel.accessAllowed ? 'block' : 'none';\n",
              "\n",
              "      async function convertToInteractive(key) {\n",
              "        const element = document.querySelector('#df-10b89a26-0507-47f3-9d69-b57322af7d2f');\n",
              "        const dataTable =\n",
              "          await google.colab.kernel.invokeFunction('convertToInteractive',\n",
              "                                                    [key], {});\n",
              "        if (!dataTable) return;\n",
              "\n",
              "        const docLinkHtml = 'Like what you see? Visit the ' +\n",
              "          '<a target=\"_blank\" href=https://colab.research.google.com/notebooks/data_table.ipynb>data table notebook</a>'\n",
              "          + ' to learn more about interactive tables.';\n",
              "        element.innerHTML = '';\n",
              "        dataTable['output_type'] = 'display_data';\n",
              "        await google.colab.output.renderOutput(dataTable, element);\n",
              "        const docLink = document.createElement('div');\n",
              "        docLink.innerHTML = docLinkHtml;\n",
              "        element.appendChild(docLink);\n",
              "      }\n",
              "    </script>\n",
              "  </div>\n",
              "\n",
              "\n",
              "<div id=\"df-6e0ff6d0-f1b2-4612-bca8-12b3f6b66e8b\">\n",
              "  <button class=\"colab-df-quickchart\" onclick=\"quickchart('df-6e0ff6d0-f1b2-4612-bca8-12b3f6b66e8b')\"\n",
              "            title=\"Suggest charts\"\n",
              "            style=\"display:none;\">\n",
              "\n",
              "<svg xmlns=\"http://www.w3.org/2000/svg\" height=\"24px\"viewBox=\"0 0 24 24\"\n",
              "     width=\"24px\">\n",
              "    <g>\n",
              "        <path d=\"M19 3H5c-1.1 0-2 .9-2 2v14c0 1.1.9 2 2 2h14c1.1 0 2-.9 2-2V5c0-1.1-.9-2-2-2zM9 17H7v-7h2v7zm4 0h-2V7h2v10zm4 0h-2v-4h2v4z\"/>\n",
              "    </g>\n",
              "</svg>\n",
              "  </button>\n",
              "\n",
              "<style>\n",
              "  .colab-df-quickchart {\n",
              "      --bg-color: #E8F0FE;\n",
              "      --fill-color: #1967D2;\n",
              "      --hover-bg-color: #E2EBFA;\n",
              "      --hover-fill-color: #174EA6;\n",
              "      --disabled-fill-color: #AAA;\n",
              "      --disabled-bg-color: #DDD;\n",
              "  }\n",
              "\n",
              "  [theme=dark] .colab-df-quickchart {\n",
              "      --bg-color: #3B4455;\n",
              "      --fill-color: #D2E3FC;\n",
              "      --hover-bg-color: #434B5C;\n",
              "      --hover-fill-color: #FFFFFF;\n",
              "      --disabled-bg-color: #3B4455;\n",
              "      --disabled-fill-color: #666;\n",
              "  }\n",
              "\n",
              "  .colab-df-quickchart {\n",
              "    background-color: var(--bg-color);\n",
              "    border: none;\n",
              "    border-radius: 50%;\n",
              "    cursor: pointer;\n",
              "    display: none;\n",
              "    fill: var(--fill-color);\n",
              "    height: 32px;\n",
              "    padding: 0;\n",
              "    width: 32px;\n",
              "  }\n",
              "\n",
              "  .colab-df-quickchart:hover {\n",
              "    background-color: var(--hover-bg-color);\n",
              "    box-shadow: 0 1px 2px rgba(60, 64, 67, 0.3), 0 1px 3px 1px rgba(60, 64, 67, 0.15);\n",
              "    fill: var(--button-hover-fill-color);\n",
              "  }\n",
              "\n",
              "  .colab-df-quickchart-complete:disabled,\n",
              "  .colab-df-quickchart-complete:disabled:hover {\n",
              "    background-color: var(--disabled-bg-color);\n",
              "    fill: var(--disabled-fill-color);\n",
              "    box-shadow: none;\n",
              "  }\n",
              "\n",
              "  .colab-df-spinner {\n",
              "    border: 2px solid var(--fill-color);\n",
              "    border-color: transparent;\n",
              "    border-bottom-color: var(--fill-color);\n",
              "    animation:\n",
              "      spin 1s steps(1) infinite;\n",
              "  }\n",
              "\n",
              "  @keyframes spin {\n",
              "    0% {\n",
              "      border-color: transparent;\n",
              "      border-bottom-color: var(--fill-color);\n",
              "      border-left-color: var(--fill-color);\n",
              "    }\n",
              "    20% {\n",
              "      border-color: transparent;\n",
              "      border-left-color: var(--fill-color);\n",
              "      border-top-color: var(--fill-color);\n",
              "    }\n",
              "    30% {\n",
              "      border-color: transparent;\n",
              "      border-left-color: var(--fill-color);\n",
              "      border-top-color: var(--fill-color);\n",
              "      border-right-color: var(--fill-color);\n",
              "    }\n",
              "    40% {\n",
              "      border-color: transparent;\n",
              "      border-right-color: var(--fill-color);\n",
              "      border-top-color: var(--fill-color);\n",
              "    }\n",
              "    60% {\n",
              "      border-color: transparent;\n",
              "      border-right-color: var(--fill-color);\n",
              "    }\n",
              "    80% {\n",
              "      border-color: transparent;\n",
              "      border-right-color: var(--fill-color);\n",
              "      border-bottom-color: var(--fill-color);\n",
              "    }\n",
              "    90% {\n",
              "      border-color: transparent;\n",
              "      border-bottom-color: var(--fill-color);\n",
              "    }\n",
              "  }\n",
              "</style>\n",
              "\n",
              "  <script>\n",
              "    async function quickchart(key) {\n",
              "      const quickchartButtonEl =\n",
              "        document.querySelector('#' + key + ' button');\n",
              "      quickchartButtonEl.disabled = true;  // To prevent multiple clicks.\n",
              "      quickchartButtonEl.classList.add('colab-df-spinner');\n",
              "      try {\n",
              "        const charts = await google.colab.kernel.invokeFunction(\n",
              "            'suggestCharts', [key], {});\n",
              "      } catch (error) {\n",
              "        console.error('Error during call to suggestCharts:', error);\n",
              "      }\n",
              "      quickchartButtonEl.classList.remove('colab-df-spinner');\n",
              "      quickchartButtonEl.classList.add('colab-df-quickchart-complete');\n",
              "    }\n",
              "    (() => {\n",
              "      let quickchartButtonEl =\n",
              "        document.querySelector('#df-6e0ff6d0-f1b2-4612-bca8-12b3f6b66e8b button');\n",
              "      quickchartButtonEl.style.display =\n",
              "        google.colab.kernel.accessAllowed ? 'block' : 'none';\n",
              "    })();\n",
              "  </script>\n",
              "</div>\n",
              "\n",
              "    </div>\n",
              "  </div>\n"
            ],
            "application/vnd.google.colaboratory.intrinsic+json": {
              "type": "dataframe",
              "variable_name": "df"
            }
          },
          "metadata": {},
          "execution_count": 43
        }
      ]
    },
    {
      "cell_type": "code",
      "source": [
        "# Preprocessing: Handle missing values\n",
        "df.dropna(subset=['reviews', 'reviewers', 'rating'], inplace=True)"
      ],
      "metadata": {
        "execution": {
          "iopub.status.busy": "2024-07-09T14:36:00.550659Z",
          "iopub.execute_input": "2024-07-09T14:36:00.551007Z",
          "iopub.status.idle": "2024-07-09T14:36:00.866991Z",
          "shell.execute_reply.started": "2024-07-09T14:36:00.550977Z",
          "shell.execute_reply": "2024-07-09T14:36:00.86597Z"
        },
        "trusted": true,
        "id": "F15NaQHJ1G3f"
      },
      "execution_count": 44,
      "outputs": []
    },
    {
      "cell_type": "code",
      "source": [
        "# Convert date to datetime\n",
        "df['date_reviews'] = pd.to_datetime(df['date_reviews'])\n"
      ],
      "metadata": {
        "execution": {
          "iopub.status.busy": "2024-07-09T14:36:00.868366Z",
          "iopub.execute_input": "2024-07-09T14:36:00.868827Z",
          "iopub.status.idle": "2024-07-09T14:36:01.072299Z",
          "shell.execute_reply.started": "2024-07-09T14:36:00.868784Z",
          "shell.execute_reply": "2024-07-09T14:36:01.071079Z"
        },
        "trusted": true,
        "id": "b5x3B7hR1G3g"
      },
      "execution_count": 45,
      "outputs": []
    },
    {
      "cell_type": "code",
      "source": [
        "\n",
        "\n",
        "# Extended Sample DataFrame\n",
        "data = {\n",
        "    'reviews': ['Great product!', 'Not bad', 'Could be better', 'Amazing!', 'Poor quality',\n",
        "                'Fantastic!', 'Terrible service', 'Loved it!', 'Would not recommend', 'Best purchase ever!'],\n",
        "    'rating': [5, 4, 3, 5, 1, 5, 1, 5, 2, 5],\n",
        "    'reviewers': ['Alice', 'Bob', 'Alice', 'Charlie', 'Bob', 'Dave', 'Eve', 'Frank', 'Grace', 'Heidi']\n",
        "}\n",
        "\n",
        "df = pd.DataFrame(data)\n",
        "\n",
        "# Initialize the Sentiment Intensity Analyzer\n",
        "sia = SentimentIntensityAnalyzer()\n",
        "\n",
        "# Calculate sentiment scores\n",
        "df['sentiment_score'] = df['reviews'].apply(lambda x: sia.polarity_scores(x)['compound'])\n",
        "\n",
        "print(df)"
      ],
      "metadata": {
        "execution": {
          "iopub.status.busy": "2024-07-09T14:36:01.075296Z",
          "iopub.execute_input": "2024-07-09T14:36:01.075704Z",
          "iopub.status.idle": "2024-07-09T14:36:21.164021Z",
          "shell.execute_reply.started": "2024-07-09T14:36:01.075669Z",
          "shell.execute_reply": "2024-07-09T14:36:21.162887Z"
        },
        "trusted": true,
        "colab": {
          "base_uri": "https://localhost:8080/"
        },
        "id": "rxdc1Js31G3g",
        "outputId": "0b264439-62f8-4cd7-b5da-8fe659d2ea59"
      },
      "execution_count": 46,
      "outputs": [
        {
          "output_type": "stream",
          "name": "stdout",
          "text": [
            "               reviews  rating reviewers  sentiment_score\n",
            "0       Great product!       5     Alice           0.6588\n",
            "1              Not bad       4       Bob           0.4310\n",
            "2      Could be better       3     Alice           0.4404\n",
            "3             Amazing!       5   Charlie           0.6239\n",
            "4         Poor quality       1       Bob          -0.4767\n",
            "5           Fantastic!       5      Dave           0.5983\n",
            "6     Terrible service       1       Eve          -0.4767\n",
            "7            Loved it!       5     Frank           0.6360\n",
            "8  Would not recommend       2     Grace          -0.2755\n",
            "9  Best purchase ever!       5     Heidi           0.6696\n"
          ]
        }
      ]
    },
    {
      "cell_type": "code",
      "source": [
        "# Feature Engineering\n",
        "df['review_length'] = df['reviews'].apply(len)\n",
        "reviewer_group = df.groupby('reviewers').agg({\n",
        "    'rating': 'mean',\n",
        "    'sentiment_score': 'mean',\n",
        "    'review_length': 'mean',\n",
        "    'reviews': 'count'\n",
        "}).rename(columns={\n",
        "    'rating': 'average_rating',\n",
        "    'sentiment_score': 'average_sentiment_score',\n",
        "    'review_length': 'average_review_length',\n",
        "    'reviews': 'review_count'\n",
        "}).reset_index()"
      ],
      "metadata": {
        "execution": {
          "iopub.status.busy": "2024-07-09T14:36:21.16553Z",
          "iopub.execute_input": "2024-07-09T14:36:21.166451Z",
          "iopub.status.idle": "2024-07-09T14:36:21.178781Z",
          "shell.execute_reply.started": "2024-07-09T14:36:21.166411Z",
          "shell.execute_reply": "2024-07-09T14:36:21.177418Z"
        },
        "trusted": true,
        "id": "Y3hYP_U91G3g"
      },
      "execution_count": 47,
      "outputs": []
    },
    {
      "cell_type": "code",
      "source": [
        "# Scale the features\n",
        "scaler = StandardScaler()\n",
        "scaled_features = scaler.fit_transform(reviewer_group[['average_rating', 'average_review_length', 'review_count']])\n",
        "# Check the shape of scaled_features\n",
        "print(scaled_features.shape)  # Should be (n_samples, n_features)\n",
        "\n",
        "# Check for NaN or Infinite values\n",
        "print(np.isnan(scaled_features).sum())  # Should be 0\n",
        "print(np.isinf(scaled_features).sum())  # Should be 0\n"
      ],
      "metadata": {
        "execution": {
          "iopub.status.busy": "2024-07-09T14:36:21.180567Z",
          "iopub.execute_input": "2024-07-09T14:36:21.180976Z",
          "iopub.status.idle": "2024-07-09T14:36:21.202841Z",
          "shell.execute_reply.started": "2024-07-09T14:36:21.180943Z",
          "shell.execute_reply": "2024-07-09T14:36:21.201443Z"
        },
        "trusted": true,
        "colab": {
          "base_uri": "https://localhost:8080/"
        },
        "id": "gW7tghCg1G3h",
        "outputId": "221cbd08-68ea-4605-90f8-d6447bddf1e0"
      },
      "execution_count": 48,
      "outputs": [
        {
          "output_type": "stream",
          "name": "stdout",
          "text": [
            "(8, 3)\n",
            "0\n",
            "0\n"
          ]
        }
      ]
    },
    {
      "cell_type": "code",
      "source": [
        "# K-means clustering\n",
        "kmeans = KMeans(n_clusters=3, random_state=42, n_init=10)\n",
        "reviewer_group['cluster'] = kmeans.fit_predict(scaled_features)\n",
        "\n",
        "print(reviewer_group)"
      ],
      "metadata": {
        "execution": {
          "iopub.status.busy": "2024-07-09T14:36:21.204368Z",
          "iopub.execute_input": "2024-07-09T14:36:21.204715Z",
          "iopub.status.idle": "2024-07-09T14:36:21.235541Z",
          "shell.execute_reply.started": "2024-07-09T14:36:21.204685Z",
          "shell.execute_reply": "2024-07-09T14:36:21.234491Z"
        },
        "trusted": true,
        "colab": {
          "base_uri": "https://localhost:8080/"
        },
        "id": "okVKorgJ1G3h",
        "outputId": "019db7a6-b44c-4e61-fc03-2cfddd5d8420"
      },
      "execution_count": 49,
      "outputs": [
        {
          "output_type": "stream",
          "name": "stdout",
          "text": [
            "  reviewers  average_rating  average_sentiment_score  average_review_length  \\\n",
            "0     Alice             4.0                  0.54960                   14.5   \n",
            "1       Bob             2.5                 -0.02285                    9.5   \n",
            "2   Charlie             5.0                  0.62390                    8.0   \n",
            "3      Dave             5.0                  0.59830                   10.0   \n",
            "4       Eve             1.0                 -0.47670                   16.0   \n",
            "5     Frank             5.0                  0.63600                    9.0   \n",
            "6     Grace             2.0                 -0.27550                   19.0   \n",
            "7     Heidi             5.0                  0.66960                   19.0   \n",
            "\n",
            "   review_count  cluster  \n",
            "0             2        2  \n",
            "1             2        2  \n",
            "2             1        1  \n",
            "3             1        1  \n",
            "4             1        0  \n",
            "5             1        1  \n",
            "6             1        0  \n",
            "7             1        0  \n"
          ]
        }
      ]
    },
    {
      "cell_type": "code",
      "source": [
        "# Verify cluster labels distribution\n",
        "print(reviewer_group['cluster'].value_counts())\n",
        "\n",
        "# Evaluation Metrics\n",
        "if len(reviewer_group['cluster'].unique()) > 1:\n",
        "    silhouette_avg = silhouette_score(scaled_features, reviewer_group['cluster'])\n",
        "    print(f'Silhouette Score: {silhouette_avg:.4f}')\n",
        "\n",
        "    calinski_harabasz = calinski_harabasz_score(scaled_features, reviewer_group['cluster'])\n",
        "    print(f'Calinski-Harabasz Index: {calinski_harabasz:.4f}')\n",
        "\n",
        "    davies_bouldin = davies_bouldin_score(scaled_features, reviewer_group['cluster'])\n",
        "    print(f'Davies-Bouldin Index: {davies_bouldin:.4f}')\n",
        "else:\n",
        "    print(\"Only one cluster found. Cannot compute silhouette score, Calinski-Harabasz index, or Davies-Bouldin index.\")"
      ],
      "metadata": {
        "execution": {
          "iopub.status.busy": "2024-07-09T14:36:21.236991Z",
          "iopub.execute_input": "2024-07-09T14:36:21.237326Z",
          "iopub.status.idle": "2024-07-09T14:36:21.25041Z",
          "shell.execute_reply.started": "2024-07-09T14:36:21.237298Z",
          "shell.execute_reply": "2024-07-09T14:36:21.249261Z"
        },
        "trusted": true,
        "colab": {
          "base_uri": "https://localhost:8080/"
        },
        "id": "4xlge6ZY1G3h",
        "outputId": "15e0b35d-aa63-4b6a-a9d9-48dcc8c2ae0a"
      },
      "execution_count": 50,
      "outputs": [
        {
          "output_type": "stream",
          "name": "stdout",
          "text": [
            "cluster\n",
            "1    3\n",
            "0    3\n",
            "2    2\n",
            "Name: count, dtype: int64\n",
            "Silhouette Score: 0.5575\n",
            "Calinski-Harabasz Index: 8.6742\n",
            "Davies-Bouldin Index: 0.6090\n"
          ]
        }
      ]
    },
    {
      "cell_type": "code",
      "source": [
        "\n",
        "# Visualize cluster centers\n",
        "cluster_centers = kmeans.cluster_centers_\n",
        "print(\"Shape before inverse transform:\", cluster_centers.shape)\n",
        "cluster_centers = scaler.inverse_transform(cluster_centers)\n",
        "print(\"Shape after inverse transform:\", cluster_centers.shape)\n",
        "\n"
      ],
      "metadata": {
        "execution": {
          "iopub.status.busy": "2024-07-09T14:36:21.251798Z",
          "iopub.execute_input": "2024-07-09T14:36:21.252253Z",
          "iopub.status.idle": "2024-07-09T14:36:21.260627Z",
          "shell.execute_reply.started": "2024-07-09T14:36:21.252216Z",
          "shell.execute_reply": "2024-07-09T14:36:21.25941Z"
        },
        "trusted": true,
        "colab": {
          "base_uri": "https://localhost:8080/"
        },
        "id": "swY1zpSD1G3i",
        "outputId": "5abc833b-b21c-4b47-e2ee-6beeae345afa"
      },
      "execution_count": 51,
      "outputs": [
        {
          "output_type": "stream",
          "name": "stdout",
          "text": [
            "Shape before inverse transform: (3, 3)\n",
            "Shape after inverse transform: (3, 3)\n"
          ]
        }
      ]
    },
    {
      "cell_type": "code",
      "source": [
        "# Check the shape of cluster_centers\n",
        "num_features = cluster_centers.shape[1]\n",
        "\n",
        "# Update column names based on the number of features\n",
        "if num_features == 4:\n",
        "    column_names = ['average_rating', 'average_sentiment_score', 'average_review_length', 'review_count']\n",
        "elif num_features == 3:\n",
        "    column_names = ['average_rating', 'average_sentiment_score', 'average_review_length']  # Adjust as necessary\n",
        "else:\n",
        "    column_names = ['average_rating', 'average_sentiment_score']  # Adjust as necessary\n",
        "\n",
        "# Create DataFrame with appropriate column names\n",
        "cluster_centers_df = pd.DataFrame(cluster_centers, columns=column_names)\n",
        "print('Cluster Centers:')\n",
        "print(cluster_centers_df)"
      ],
      "metadata": {
        "execution": {
          "iopub.status.busy": "2024-07-09T14:36:21.262148Z",
          "iopub.execute_input": "2024-07-09T14:36:21.262531Z",
          "iopub.status.idle": "2024-07-09T14:36:21.274021Z",
          "shell.execute_reply.started": "2024-07-09T14:36:21.2625Z",
          "shell.execute_reply": "2024-07-09T14:36:21.272707Z"
        },
        "trusted": true,
        "colab": {
          "base_uri": "https://localhost:8080/"
        },
        "id": "HB7Wq0VC1G3i",
        "outputId": "0d8248ac-733b-40f2-f3dc-dd796f811963"
      },
      "execution_count": 52,
      "outputs": [
        {
          "output_type": "stream",
          "name": "stdout",
          "text": [
            "Cluster Centers:\n",
            "   average_rating  average_sentiment_score  average_review_length\n",
            "0        2.666667                     18.0                    1.0\n",
            "1        5.000000                      9.0                    1.0\n",
            "2        3.250000                     12.0                    2.0\n"
          ]
        }
      ]
    },
    {
      "cell_type": "code",
      "source": [
        "\n",
        "# Distribution of features for each cluster\n",
        "for feature in ['average_rating', 'average_sentiment_score', 'average_review_length', 'review_count']:\n",
        "    plt.figure(figsize=(10, 6))\n",
        "    sns.boxplot(x='cluster', y=feature, data=reviewer_group, palette='viridis')\n",
        "    plt.title(f'Distribution of {feature} by Cluster')\n",
        "    plt.xlabel('Cluster')\n",
        "    plt.ylabel(feature)\n",
        "    plt.show()"
      ],
      "metadata": {
        "execution": {
          "iopub.status.busy": "2024-07-09T14:36:21.275476Z",
          "iopub.execute_input": "2024-07-09T14:36:21.275964Z",
          "iopub.status.idle": "2024-07-09T14:36:22.1529Z",
          "shell.execute_reply.started": "2024-07-09T14:36:21.275889Z",
          "shell.execute_reply": "2024-07-09T14:36:22.151823Z"
        },
        "trusted": true,
        "colab": {
          "base_uri": "https://localhost:8080/",
          "height": 1000
        },
        "id": "EW2CQisC1G3i",
        "outputId": "31c86c75-1d84-4434-fc09-b7e4561752ee"
      },
      "execution_count": 53,
      "outputs": [
        {
          "output_type": "stream",
          "name": "stderr",
          "text": [
            "<ipython-input-53-ac9b53bb1f7b>:4: FutureWarning: \n",
            "\n",
            "Passing `palette` without assigning `hue` is deprecated and will be removed in v0.14.0. Assign the `x` variable to `hue` and set `legend=False` for the same effect.\n",
            "\n",
            "  sns.boxplot(x='cluster', y=feature, data=reviewer_group, palette='viridis')\n"
          ]
        },
        {
          "output_type": "display_data",
          "data": {
            "text/plain": [
              "<Figure size 1000x600 with 1 Axes>"
            ],
            "image/png": "[encoded data removed]"
          },
          "metadata": {}
        },
        {
          "output_type": "stream",
          "name": "stderr",
          "text": [
            "<ipython-input-53-ac9b53bb1f7b>:4: FutureWarning: \n",
            "\n",
            "Passing `palette` without assigning `hue` is deprecated and will be removed in v0.14.0. Assign the `x` variable to `hue` and set `legend=False` for the same effect.\n",
            "\n",
            "  sns.boxplot(x='cluster', y=feature, data=reviewer_group, palette='viridis')\n"
          ]
        },
        {
          "output_type": "display_data",
          "data": {
            "text/plain": [
              "<Figure size 1000x600 with 1 Axes>"
            ],
            "image/png": "[encoded data removed]"
          },
          "metadata": {}
        },
        {
          "output_type": "stream",
          "name": "stderr",
          "text": [
            "<ipython-input-53-ac9b53bb1f7b>:4: FutureWarning: \n",
            "\n",
            "Passing `palette` without assigning `hue` is deprecated and will be removed in v0.14.0. Assign the `x` variable to `hue` and set `legend=False` for the same effect.\n",
            "\n",
            "  sns.boxplot(x='cluster', y=feature, data=reviewer_group, palette='viridis')\n"
          ]
        },
        {
          "output_type": "display_data",
          "data": {
            "text/plain": [
              "<Figure size 1000x600 with 1 Axes>"
            ],
            "image/png": "[encoded data removed]"
          },
          "metadata": {}
        },
        {
          "output_type": "stream",
          "name": "stderr",
          "text": [
            "<ipython-input-53-ac9b53bb1f7b>:4: FutureWarning: \n",
            "\n",
            "Passing `palette` without assigning `hue` is deprecated and will be removed in v0.14.0. Assign the `x` variable to `hue` and set `legend=False` for the same effect.\n",
            "\n",
            "  sns.boxplot(x='cluster', y=feature, data=reviewer_group, palette='viridis')\n"
          ]
        },
        {
          "output_type": "display_data",
          "data": {
            "text/plain": [
              "<Figure size 1000x600 with 1 Axes>"
            ],
            "image/png": "[encoded data removed]"
          },
          "metadata": {}
        }
      ]
    },
    {
      "cell_type": "code",
      "source": [
        "# Add cluster labels back to the original dataframe\n",
        "df = df.merge(reviewer_group[['reviewers', 'cluster']], on='reviewers')"
      ],
      "metadata": {
        "execution": {
          "iopub.status.busy": "2024-07-09T14:36:22.15442Z",
          "iopub.execute_input": "2024-07-09T14:36:22.154842Z",
          "iopub.status.idle": "2024-07-09T14:36:22.165727Z",
          "shell.execute_reply.started": "2024-07-09T14:36:22.154809Z",
          "shell.execute_reply": "2024-07-09T14:36:22.164425Z"
        },
        "trusted": true,
        "id": "9AyBoYAb1G3i"
      },
      "execution_count": 54,
      "outputs": []
    },
    {
      "cell_type": "code",
      "source": [
        "# Visualize clusters\n",
        "\n",
        "plt.figure(figsize=(10, 6))\n",
        "sns.scatterplot(x='average_rating', y='average_sentiment_score', hue='cluster', data=reviewer_group, palette='viridis')\n",
        "plt.title('Clusters of Students Based on Rating and Sentiment Score')\n",
        "plt.xlabel('Average Rating')\n",
        "plt.ylabel('Average Sentiment Score')\n",
        "plt.show()\n"
      ],
      "metadata": {
        "execution": {
          "iopub.status.busy": "2024-07-09T14:36:22.169742Z",
          "iopub.execute_input": "2024-07-09T14:36:22.17028Z",
          "iopub.status.idle": "2024-07-09T14:36:22.558496Z",
          "shell.execute_reply.started": "2024-07-09T14:36:22.170241Z",
          "shell.execute_reply": "2024-07-09T14:36:22.557201Z"
        },
        "trusted": true,
        "colab": {
          "base_uri": "https://localhost:8080/",
          "height": 564
        },
        "id": "wiHRZBSa1G3i",
        "outputId": "efd7156f-7018-4dfb-f62f-ecc35708d0a9"
      },
      "execution_count": 55,
      "outputs": [
        {
          "output_type": "display_data",
          "data": {
            "text/plain": [
              "<Figure size 1000x600 with 1 Axes>"
            ],
            "image/png": "[encoded data removed]"
          },
          "metadata": {}
        }
      ]
    },
    {
      "cell_type": "code",
      "source": [
        "# Count of reviewers in each cluster\n",
        "plt.figure(figsize=(8, 5))\n",
        "sns.countplot(x='cluster', data=reviewer_group, palette='viridis')\n",
        "plt.title('Count of Reviewers in Each Cluster')\n",
        "plt.xlabel('Cluster')\n",
        "plt.ylabel('Count')\n",
        "plt.show()\n"
      ],
      "metadata": {
        "execution": {
          "iopub.status.busy": "2024-07-09T14:36:22.559822Z",
          "iopub.execute_input": "2024-07-09T14:36:22.56017Z",
          "iopub.status.idle": "2024-07-09T14:36:22.80107Z",
          "shell.execute_reply.started": "2024-07-09T14:36:22.560133Z",
          "shell.execute_reply": "2024-07-09T14:36:22.799794Z"
        },
        "trusted": true,
        "colab": {
          "base_uri": "https://localhost:8080/",
          "height": 578
        },
        "id": "tADMpeSt1G3i",
        "outputId": "6312d571-bcd1-4477-b6e7-38b409267410"
      },
      "execution_count": 56,
      "outputs": [
        {
          "output_type": "stream",
          "name": "stderr",
          "text": [
            "<ipython-input-56-b58fc0ada706>:3: FutureWarning: \n",
            "\n",
            "Passing `palette` without assigning `hue` is deprecated and will be removed in v0.14.0. Assign the `x` variable to `hue` and set `legend=False` for the same effect.\n",
            "\n",
            "  sns.countplot(x='cluster', data=reviewer_group, palette='viridis')\n"
          ]
        },
        {
          "output_type": "display_data",
          "data": {
            "text/plain": [
              "<Figure size 800x500 with 1 Axes>"
            ],
            "image/png": "[encoded data removed]"
          },
          "metadata": {}
        }
      ]
    },
    {
      "cell_type": "code",
      "source": [
        "# Example function to preprocess and train the model\n",
        "def train_model(X_train, y_train):\n",
        "    # Initialize Sentiment Analyzer\n",
        "    sia = SentimentIntensityAnalyzer()\n",
        "\n",
        "    # Example of pipeline with TF-IDF vectorizer and Logistic Regression\n",
        "    model = make_pipeline(\n",
        "        TfidfVectorizer(max_features=1000),  # Example of vectorizer\n",
        "        LogisticRegression()\n",
        "    )\n",
        "\n",
        "    # Fit the model on training data\n",
        "    model.fit(X_train, y_train)\n",
        "\n",
        "    return model\n",
        "\n",
        "# Example training data and labels\n",
        "X_train = [\n",
        "    \"This product is terrible.\",\n",
        "    \"It exceeded my expectations.\",\n",
        "    \"Very disappointed with the service.\",\n",
        "    \"Amazing quality and fast delivery.\"\n",
        "]\n",
        "y_train = ['negative', 'positive', 'negative', 'positive']  # Example labels\n",
        "\n",
        "# Train the model\n",
        "model = train_model(X_train, y_train)"
      ],
      "metadata": {
        "execution": {
          "iopub.status.busy": "2024-07-09T14:36:22.802472Z",
          "iopub.execute_input": "2024-07-09T14:36:22.80285Z",
          "iopub.status.idle": "2024-07-09T14:36:22.826633Z",
          "shell.execute_reply.started": "2024-07-09T14:36:22.802817Z",
          "shell.execute_reply": "2024-07-09T14:36:22.8253Z"
        },
        "trusted": true,
        "id": "lJbALT401G3i"
      },
      "execution_count": 57,
      "outputs": []
    },
    {
      "cell_type": "code",
      "source": [
        "# Example function to preprocess and predict sentiment\n",
        "def predict_sentiment(input_text, model):\n",
        "    # Predict sentiment\n",
        "    predicted_sentiment = model.predict([input_text])[0]\n",
        "\n",
        "    # Example of sentiment score using VADER\n",
        "    sia = SentimentIntensityAnalyzer()\n",
        "    sentiment_score = sia.polarity_scores(input_text)['compound']\n",
        "\n",
        "    # Adjust predicted sentiment based on sentiment score\n",
        "    if sentiment_score > 0:\n",
        "        predicted_sentiment = 'positive'\n",
        "    elif sentiment_score < 0:\n",
        "        predicted_sentiment = 'negative'\n",
        "    else:\n",
        "        predicted_sentiment = 'neutral'  # Handle neutral sentiment if needed\n",
        "\n",
        "    return predicted_sentiment, sentiment_score\n",
        "\n",
        "# Example input from user\n",
        "input_text = \"I really liked this product, it's great!\"\n",
        "\n",
        "# Predict sentiment using the trained model\n",
        "predicted_sentiment, sentiment_score = predict_sentiment(input_text, model)\n",
        "\n",
        "# Output the prediction and sentiment score\n",
        "print(f\"Input Text: {input_text}\")\n",
        "print(f\"Predicted Sentiment: {predicted_sentiment}\")\n",
        "print(f\"Sentiment Score: {sentiment_score:.4f}\")"
      ],
      "metadata": {
        "execution": {
          "iopub.status.busy": "2024-07-09T14:36:22.828177Z",
          "iopub.execute_input": "2024-07-09T14:36:22.828524Z",
          "iopub.status.idle": "2024-07-09T14:36:22.852449Z",
          "shell.execute_reply.started": "2024-07-09T14:36:22.828495Z",
          "shell.execute_reply": "2024-07-09T14:36:22.851084Z"
        },
        "trusted": true,
        "colab": {
          "base_uri": "https://localhost:8080/"
        },
        "id": "u-7MIigN1G3i",
        "outputId": "b0428e3f-6c37-4374-b526-7bd018b41082"
      },
      "execution_count": 58,
      "outputs": [
        {
          "output_type": "stream",
          "name": "stdout",
          "text": [
            "Input Text: I really liked this product, it's great!\n",
            "Predicted Sentiment: positive\n",
            "Sentiment Score: 0.8169\n"
          ]
        }
      ]
    },
    {
      "cell_type": "code",
      "source": [
        "# Example test data and labels\n",
        "test_data = [\n",
        "    \"This product is terrible.\",\n",
        "    \"It exceeded my expectations.\",\n",
        "    \"Very disappointed with the service.\",\n",
        "    \"Amazing quality and fast delivery.\"\n",
        "]\n",
        "\n",
        "# Example true labels corresponding to the test data\n",
        "true_labels = ['negative', 'positive', 'negative', 'positive']  # Example labels\n",
        "\n",
        "# Assuming model is already trained and stored in 'model'\n",
        "predicted_labels = model.predict(test_data)\n",
        "\n",
        "# Calculate accuracy\n",
        "accuracy = accuracy_score(true_labels, predicted_labels)\n",
        "\n",
        "print(f\"Accuracy: {accuracy:.4f}\")"
      ],
      "metadata": {
        "execution": {
          "iopub.status.busy": "2024-07-09T14:36:22.853817Z",
          "iopub.execute_input": "2024-07-09T14:36:22.854153Z",
          "iopub.status.idle": "2024-07-09T14:36:22.867642Z",
          "shell.execute_reply.started": "2024-07-09T14:36:22.854124Z",
          "shell.execute_reply": "2024-07-09T14:36:22.866283Z"
        },
        "trusted": true,
        "colab": {
          "base_uri": "https://localhost:8080/"
        },
        "id": "huH290Dv1G3j",
        "outputId": "65d4ed99-3175-4379-8c60-90bdc5d350d9"
      },
      "execution_count": 59,
      "outputs": [
        {
          "output_type": "stream",
          "name": "stdout",
          "text": [
            "Accuracy: 1.0000\n"
          ]
        }
      ]
    },
    {
      "cell_type": "markdown",
      "source": [],
      "metadata": {
        "id": "xFZ420yC1G3j"
      }
    },
    {
      "cell_type": "code",
      "source": [
        "# Example: Generate synthetic data for demonstration\n",
        "X, y = make_classification(n_samples=1000, n_features=20, random_state=42)\n",
        "\n",
        "# Split data into train and test sets\n",
        "X_train, X_test, y_train, y_test = train_test_split(X, y, test_size=0.2, random_state=42)\n",
        "\n",
        "# Example function to evaluate metrics\n",
        "def evaluate_metrics(model, X_test, y_test):\n",
        "    # Predictions\n",
        "    y_pred = model.predict(X_test)\n",
        "\n",
        "    # Confusion Matrix\n",
        "    print(\"Confusion Matrix:\")\n",
        "    print(confusion_matrix(y_test, y_pred))\n",
        "\n",
        "    # Classification Report\n",
        "    print(\"\\nClassification Report:\")\n",
        "    print(classification_report(y_test, y_pred))\n",
        "\n",
        "    # ROC Curve and AUC (for binary classification)\n",
        "    if len(np.unique(y_test)) == 2:  # Check if binary classification\n",
        "        y_scores = model.predict_proba(X_test)[:, 1]  # Probability of positive class\n",
        "        fpr, tpr, thresholds = roc_curve(y_test, y_scores)\n",
        "        auc_score = roc_auc_score(y_test, y_scores)\n",
        "\n",
        "        # Plot ROC Curve (optional)\n",
        "        plt.figure(figsize=(8, 6))\n",
        "        plt.plot(fpr, tpr, label=f'AUC = {auc_score:.2f}')\n",
        "        plt.plot([0, 1], [0, 1], 'r--')\n",
        "        plt.xlim([0.0, 1.0])\n",
        "        plt.ylim([0.0, 1.05])\n",
        "        plt.xlabel('False Positive Rate')\n",
        "        plt.ylabel('True Positive Rate')\n",
        "        plt.title('Receiver Operating Characteristic (ROC) Curve')\n",
        "        plt.legend()\n",
        "        plt.show()\n",
        "\n",
        "        print(f\"AUC Score: {auc_score:.4f}\")\n",
        "\n",
        "# Example usage\n",
        "# Assuming 'model' is your trained model and 'X_test', 'y_test' are your test data\n",
        "model = LogisticRegression()  # Example model, replace with your trained model\n",
        "model.fit(X_train, y_train)  # Train the model on training data\n",
        "\n",
        "evaluate_metrics(model, X_test, y_test)"
      ],
      "metadata": {
        "execution": {
          "iopub.status.busy": "2024-07-09T14:36:22.869272Z",
          "iopub.execute_input": "2024-07-09T14:36:22.869739Z",
          "iopub.status.idle": "2024-07-09T14:36:23.190652Z",
          "shell.execute_reply.started": "2024-07-09T14:36:22.869697Z",
          "shell.execute_reply": "2024-07-09T14:36:23.189269Z"
        },
        "trusted": true,
        "colab": {
          "base_uri": "https://localhost:8080/",
          "height": 836
        },
        "id": "QXNOsKTA1G3k",
        "outputId": "74c6f939-48d4-4cb3-e931-a1da21d79d79"
      },
      "execution_count": 60,
      "outputs": [
        {
          "output_type": "stream",
          "name": "stdout",
          "text": [
            "Confusion Matrix:\n",
            "[[85  8]\n",
            " [21 86]]\n",
            "\n",
            "Classification Report:\n",
            "              precision    recall  f1-score   support\n",
            "\n",
            "           0       0.80      0.91      0.85        93\n",
            "           1       0.91      0.80      0.86       107\n",
            "\n",
            "    accuracy                           0.85       200\n",
            "   macro avg       0.86      0.86      0.85       200\n",
            "weighted avg       0.86      0.85      0.86       200\n",
            "\n"
          ]
        },
        {
          "output_type": "display_data",
          "data": {
            "text/plain": [
              "<Figure size 800x600 with 1 Axes>"
            ],
            "image/png": "[encoded data removed]"
          },
          "metadata": {}
        },
        {
          "output_type": "stream",
          "name": "stdout",
          "text": [
            "AUC Score: 0.9216\n"
          ]
        }
      ]
    },
    {
      "cell_type": "code",
      "source": [
        "#check for overfitting\n",
        "\n",
        "def evaluate_model(model, X, y):\n",
        "    # Split data into train and test sets\n",
        "    X_train, X_test, y_train, y_test = train_test_split(X, y, test_size=0.2, random_state=42)\n",
        "\n",
        "    # Perform cross-validation\n",
        "    cv_scores = cross_val_score(model, X_train, y_train, cv=5)  # 5-fold cross-validation\n",
        "\n",
        "    # Print cross-validation scores\n",
        "    print(f\"Cross-Validation Scores: {cv_scores}\")\n",
        "    print(f\"Mean CV Accuracy: {cv_scores.mean():.4f}\")\n",
        "\n",
        "    # Fit the model on the whole training set\n",
        "    model.fit(X_train, y_train)\n",
        "\n",
        "    # Evaluate on the test set\n",
        "    test_accuracy = model.score(X_test, y_test)\n",
        "    print(f\"Test Set Accuracy: {test_accuracy:.4f}\")\n",
        "\n",
        "    return cv_scores, test_accuracy\n",
        "\n",
        "# Example usage\n",
        "# Assuming 'model' is your trained model and 'X' is your feature matrix, 'y' is your target labels\n",
        "cv_scores, test_accuracy = evaluate_model(model, X, y)"
      ],
      "metadata": {
        "execution": {
          "iopub.status.busy": "2024-07-09T14:36:23.192258Z",
          "iopub.execute_input": "2024-07-09T14:36:23.192733Z",
          "iopub.status.idle": "2024-07-09T14:36:23.247632Z",
          "shell.execute_reply.started": "2024-07-09T14:36:23.192687Z",
          "shell.execute_reply": "2024-07-09T14:36:23.244964Z"
        },
        "trusted": true,
        "colab": {
          "base_uri": "https://localhost:8080/"
        },
        "id": "eEdX3SVd1G3k",
        "outputId": "6efe62e7-2d0c-4789-8623-0453536a1b0c"
      },
      "execution_count": 61,
      "outputs": [
        {
          "output_type": "stream",
          "name": "stdout",
          "text": [
            "Cross-Validation Scores: [0.85625 0.875   0.85625 0.86875 0.88125]\n",
            "Mean CV Accuracy: 0.8675\n",
            "Test Set Accuracy: 0.8550\n"
          ]
        }
      ]
    }
  ]
}